{
  "nbformat": 4,
  "nbformat_minor": 0,
  "metadata": {
    "colab": {
      "name": "Coffee.ipynb",
      "version": "0.3.2",
      "provenance": [],
      "collapsed_sections": [],
      "include_colab_link": true
    },
    "kernelspec": {
      "name": "python3",
      "display_name": "Python 3"
    }
  },
  "cells": [
    {
      "cell_type": "markdown",
      "metadata": {
        "id": "view-in-github",
        "colab_type": "text"
      },
      "source": [
        "<a href=\"https://colab.research.google.com/github/josh-ashkinaze/Google-profanity-words/blob/master/images.ipynb\" target=\"_parent\"><img src=\"https://colab.research.google.com/assets/colab-badge.svg\" alt=\"Open In Colab\"/></a>"
      ]
    },
    {
      "cell_type": "markdown",
      "metadata": {
        "id": "ljmMgwMOQOJb",
        "colab_type": "text"
      },
      "source": [
        "# Install packages"
      ]
    },
    {
      "cell_type": "code",
      "metadata": {
        "id": "k9ZLh3iovdn1",
        "colab_type": "code",
        "colab": {}
      },
      "source": [
        "import pandas as pd\n",
        "import io\n",
        "import requests\n",
        "import matplotlib.pyplot as plt\n",
        "from matplotlib.pyplot import figure\n",
        "from sklearn.preprocessing import StandardScaler\n",
        "from sklearn.decomposition import PCA\n",
        "import seaborn as sns"
      ],
      "execution_count": 0,
      "outputs": []
    },
    {
      "cell_type": "markdown",
      "metadata": {
        "id": "FhXnAlbhK3_E",
        "colab_type": "text"
      },
      "source": [
        "First let's read in the DF. "
      ]
    },
    {
      "cell_type": "markdown",
      "metadata": {
        "id": "A2N_kRYFQRgI",
        "colab_type": "text"
      },
      "source": [
        "# Read in Data"
      ]
    },
    {
      "cell_type": "code",
      "metadata": {
        "id": "eLgqX66MpKSh",
        "colab_type": "code",
        "colab": {}
      },
      "source": [
        "# Read in DF\n",
        "\n",
        "import pandas as pd\n",
        "import io\n",
        "import requests\n",
        "import statsmodels.api as sm\n",
        "\n",
        "url=\"https://raw.githubusercontent.com/jldbc/coffee-quality-database/master/data/arabica_data_cleaned.csv\"\n",
        "s=requests.get(url).content\n",
        "df=pd.read_csv(io.StringIO(s.decode('utf-8')))"
      ],
      "execution_count": 0,
      "outputs": []
    },
    {
      "cell_type": "markdown",
      "metadata": {
        "id": "NNOZrAnjK6O3",
        "colab_type": "text"
      },
      "source": [
        "Now we examine the structure of the dataframe. "
      ]
    },
    {
      "cell_type": "markdown",
      "metadata": {
        "id": "9zfCQPm_QWNi",
        "colab_type": "text"
      },
      "source": [
        "# Examine Structure of DF"
      ]
    },
    {
      "cell_type": "code",
      "metadata": {
        "id": "SDewoZJrN33-",
        "colab_type": "code",
        "outputId": "7556b1a4-5b2a-4bef-87ce-2c7a0d9c13cd",
        "colab": {
          "base_uri": "https://localhost:8080/",
          "height": 1000
        }
      },
      "source": [
        "# Examine structure\n",
        "df.head()\n",
        "display(\"Length: {}\".format(len(df)))\n",
        "display(df.columns)\n",
        "display(df.dtypes, \"\\n\")\n",
        "display(df.head())\n",
        "\n",
        "df.rename(columns={'Cupper.Points': 'Rating'}, inplace=True)\n",
        "print(df.columns)\n"
      ],
      "execution_count": 0,
      "outputs": [
        {
          "output_type": "display_data",
          "data": {
            "text/plain": [
              "'Length: 1311'"
            ]
          },
          "metadata": {
            "tags": []
          }
        },
        {
          "output_type": "display_data",
          "data": {
            "text/plain": [
              "Index(['Unnamed: 0', 'Species', 'Owner', 'Country.of.Origin', 'Farm.Name',\n",
              "       'Lot.Number', 'Mill', 'ICO.Number', 'Company', 'Altitude', 'Region',\n",
              "       'Producer', 'Number.of.Bags', 'Bag.Weight', 'In.Country.Partner',\n",
              "       'Harvest.Year', 'Grading.Date', 'Owner.1', 'Variety',\n",
              "       'Processing.Method', 'Aroma', 'Flavor', 'Aftertaste', 'Acidity', 'Body',\n",
              "       'Balance', 'Uniformity', 'Clean.Cup', 'Sweetness', 'Cupper.Points',\n",
              "       'Total.Cup.Points', 'Moisture', 'Category.One.Defects', 'Quakers',\n",
              "       'Color', 'Category.Two.Defects', 'Expiration', 'Certification.Body',\n",
              "       'Certification.Address', 'Certification.Contact', 'unit_of_measurement',\n",
              "       'altitude_low_meters', 'altitude_high_meters', 'altitude_mean_meters'],\n",
              "      dtype='object')"
            ]
          },
          "metadata": {
            "tags": []
          }
        },
        {
          "output_type": "display_data",
          "data": {
            "text/plain": [
              "Unnamed: 0                 int64\n",
              "Species                   object\n",
              "Owner                     object\n",
              "Country.of.Origin         object\n",
              "Farm.Name                 object\n",
              "Lot.Number                object\n",
              "Mill                      object\n",
              "ICO.Number                object\n",
              "Company                   object\n",
              "Altitude                  object\n",
              "Region                    object\n",
              "Producer                  object\n",
              "Number.of.Bags             int64\n",
              "Bag.Weight                object\n",
              "In.Country.Partner        object\n",
              "Harvest.Year              object\n",
              "Grading.Date              object\n",
              "Owner.1                   object\n",
              "Variety                   object\n",
              "Processing.Method         object\n",
              "Aroma                    float64\n",
              "Flavor                   float64\n",
              "Aftertaste               float64\n",
              "Acidity                  float64\n",
              "Body                     float64\n",
              "Balance                  float64\n",
              "Uniformity               float64\n",
              "Clean.Cup                float64\n",
              "Sweetness                float64\n",
              "Cupper.Points            float64\n",
              "Total.Cup.Points         float64\n",
              "Moisture                 float64\n",
              "Category.One.Defects       int64\n",
              "Quakers                  float64\n",
              "Color                     object\n",
              "Category.Two.Defects       int64\n",
              "Expiration                object\n",
              "Certification.Body        object\n",
              "Certification.Address     object\n",
              "Certification.Contact     object\n",
              "unit_of_measurement       object\n",
              "altitude_low_meters      float64\n",
              "altitude_high_meters     float64\n",
              "altitude_mean_meters     float64\n",
              "dtype: object"
            ]
          },
          "metadata": {
            "tags": []
          }
        },
        {
          "output_type": "display_data",
          "data": {
            "text/plain": [
              "'\\n'"
            ]
          },
          "metadata": {
            "tags": []
          }
        },
        {
          "output_type": "display_data",
          "data": {
            "text/html": [
              "<div>\n",
              "<style scoped>\n",
              "    .dataframe tbody tr th:only-of-type {\n",
              "        vertical-align: middle;\n",
              "    }\n",
              "\n",
              "    .dataframe tbody tr th {\n",
              "        vertical-align: top;\n",
              "    }\n",
              "\n",
              "    .dataframe thead th {\n",
              "        text-align: right;\n",
              "    }\n",
              "</style>\n",
              "<table border=\"1\" class=\"dataframe\">\n",
              "  <thead>\n",
              "    <tr style=\"text-align: right;\">\n",
              "      <th></th>\n",
              "      <th>Unnamed: 0</th>\n",
              "      <th>Species</th>\n",
              "      <th>Owner</th>\n",
              "      <th>Country.of.Origin</th>\n",
              "      <th>Farm.Name</th>\n",
              "      <th>Lot.Number</th>\n",
              "      <th>Mill</th>\n",
              "      <th>ICO.Number</th>\n",
              "      <th>Company</th>\n",
              "      <th>Altitude</th>\n",
              "      <th>Region</th>\n",
              "      <th>Producer</th>\n",
              "      <th>Number.of.Bags</th>\n",
              "      <th>Bag.Weight</th>\n",
              "      <th>In.Country.Partner</th>\n",
              "      <th>Harvest.Year</th>\n",
              "      <th>Grading.Date</th>\n",
              "      <th>Owner.1</th>\n",
              "      <th>Variety</th>\n",
              "      <th>Processing.Method</th>\n",
              "      <th>Aroma</th>\n",
              "      <th>Flavor</th>\n",
              "      <th>Aftertaste</th>\n",
              "      <th>Acidity</th>\n",
              "      <th>Body</th>\n",
              "      <th>Balance</th>\n",
              "      <th>Uniformity</th>\n",
              "      <th>Clean.Cup</th>\n",
              "      <th>Sweetness</th>\n",
              "      <th>Cupper.Points</th>\n",
              "      <th>Total.Cup.Points</th>\n",
              "      <th>Moisture</th>\n",
              "      <th>Category.One.Defects</th>\n",
              "      <th>Quakers</th>\n",
              "      <th>Color</th>\n",
              "      <th>Category.Two.Defects</th>\n",
              "      <th>Expiration</th>\n",
              "      <th>Certification.Body</th>\n",
              "      <th>Certification.Address</th>\n",
              "      <th>Certification.Contact</th>\n",
              "      <th>unit_of_measurement</th>\n",
              "      <th>altitude_low_meters</th>\n",
              "      <th>altitude_high_meters</th>\n",
              "      <th>altitude_mean_meters</th>\n",
              "    </tr>\n",
              "  </thead>\n",
              "  <tbody>\n",
              "    <tr>\n",
              "      <th>0</th>\n",
              "      <td>1</td>\n",
              "      <td>Arabica</td>\n",
              "      <td>metad plc</td>\n",
              "      <td>Ethiopia</td>\n",
              "      <td>metad plc</td>\n",
              "      <td>NaN</td>\n",
              "      <td>metad plc</td>\n",
              "      <td>2014/2015</td>\n",
              "      <td>metad agricultural developmet plc</td>\n",
              "      <td>1950-2200</td>\n",
              "      <td>guji-hambela</td>\n",
              "      <td>METAD PLC</td>\n",
              "      <td>300</td>\n",
              "      <td>60 kg</td>\n",
              "      <td>METAD Agricultural Development plc</td>\n",
              "      <td>2014</td>\n",
              "      <td>April 4th, 2015</td>\n",
              "      <td>metad plc</td>\n",
              "      <td>NaN</td>\n",
              "      <td>Washed / Wet</td>\n",
              "      <td>8.67</td>\n",
              "      <td>8.83</td>\n",
              "      <td>8.67</td>\n",
              "      <td>8.75</td>\n",
              "      <td>8.50</td>\n",
              "      <td>8.42</td>\n",
              "      <td>10.0</td>\n",
              "      <td>10.0</td>\n",
              "      <td>10.0</td>\n",
              "      <td>8.75</td>\n",
              "      <td>90.58</td>\n",
              "      <td>0.12</td>\n",
              "      <td>0</td>\n",
              "      <td>0.0</td>\n",
              "      <td>Green</td>\n",
              "      <td>0</td>\n",
              "      <td>April 3rd, 2016</td>\n",
              "      <td>METAD Agricultural Development plc</td>\n",
              "      <td>309fcf77415a3661ae83e027f7e5f05dad786e44</td>\n",
              "      <td>19fef5a731de2db57d16da10287413f5f99bc2dd</td>\n",
              "      <td>m</td>\n",
              "      <td>1950.0</td>\n",
              "      <td>2200.0</td>\n",
              "      <td>2075.0</td>\n",
              "    </tr>\n",
              "    <tr>\n",
              "      <th>1</th>\n",
              "      <td>2</td>\n",
              "      <td>Arabica</td>\n",
              "      <td>metad plc</td>\n",
              "      <td>Ethiopia</td>\n",
              "      <td>metad plc</td>\n",
              "      <td>NaN</td>\n",
              "      <td>metad plc</td>\n",
              "      <td>2014/2015</td>\n",
              "      <td>metad agricultural developmet plc</td>\n",
              "      <td>1950-2200</td>\n",
              "      <td>guji-hambela</td>\n",
              "      <td>METAD PLC</td>\n",
              "      <td>300</td>\n",
              "      <td>60 kg</td>\n",
              "      <td>METAD Agricultural Development plc</td>\n",
              "      <td>2014</td>\n",
              "      <td>April 4th, 2015</td>\n",
              "      <td>metad plc</td>\n",
              "      <td>Other</td>\n",
              "      <td>Washed / Wet</td>\n",
              "      <td>8.75</td>\n",
              "      <td>8.67</td>\n",
              "      <td>8.50</td>\n",
              "      <td>8.58</td>\n",
              "      <td>8.42</td>\n",
              "      <td>8.42</td>\n",
              "      <td>10.0</td>\n",
              "      <td>10.0</td>\n",
              "      <td>10.0</td>\n",
              "      <td>8.58</td>\n",
              "      <td>89.92</td>\n",
              "      <td>0.12</td>\n",
              "      <td>0</td>\n",
              "      <td>0.0</td>\n",
              "      <td>Green</td>\n",
              "      <td>1</td>\n",
              "      <td>April 3rd, 2016</td>\n",
              "      <td>METAD Agricultural Development plc</td>\n",
              "      <td>309fcf77415a3661ae83e027f7e5f05dad786e44</td>\n",
              "      <td>19fef5a731de2db57d16da10287413f5f99bc2dd</td>\n",
              "      <td>m</td>\n",
              "      <td>1950.0</td>\n",
              "      <td>2200.0</td>\n",
              "      <td>2075.0</td>\n",
              "    </tr>\n",
              "    <tr>\n",
              "      <th>2</th>\n",
              "      <td>3</td>\n",
              "      <td>Arabica</td>\n",
              "      <td>grounds for health admin</td>\n",
              "      <td>Guatemala</td>\n",
              "      <td>san marcos barrancas \"san cristobal cuch</td>\n",
              "      <td>NaN</td>\n",
              "      <td>NaN</td>\n",
              "      <td>NaN</td>\n",
              "      <td>NaN</td>\n",
              "      <td>1600 - 1800 m</td>\n",
              "      <td>NaN</td>\n",
              "      <td>NaN</td>\n",
              "      <td>5</td>\n",
              "      <td>1</td>\n",
              "      <td>Specialty Coffee Association</td>\n",
              "      <td>NaN</td>\n",
              "      <td>May 31st, 2010</td>\n",
              "      <td>Grounds for Health Admin</td>\n",
              "      <td>Bourbon</td>\n",
              "      <td>NaN</td>\n",
              "      <td>8.42</td>\n",
              "      <td>8.50</td>\n",
              "      <td>8.42</td>\n",
              "      <td>8.42</td>\n",
              "      <td>8.33</td>\n",
              "      <td>8.42</td>\n",
              "      <td>10.0</td>\n",
              "      <td>10.0</td>\n",
              "      <td>10.0</td>\n",
              "      <td>9.25</td>\n",
              "      <td>89.75</td>\n",
              "      <td>0.00</td>\n",
              "      <td>0</td>\n",
              "      <td>0.0</td>\n",
              "      <td>NaN</td>\n",
              "      <td>0</td>\n",
              "      <td>May 31st, 2011</td>\n",
              "      <td>Specialty Coffee Association</td>\n",
              "      <td>36d0d00a3724338ba7937c52a378d085f2172daa</td>\n",
              "      <td>0878a7d4b9d35ddbf0fe2ce69a2062cceb45a660</td>\n",
              "      <td>m</td>\n",
              "      <td>1600.0</td>\n",
              "      <td>1800.0</td>\n",
              "      <td>1700.0</td>\n",
              "    </tr>\n",
              "    <tr>\n",
              "      <th>3</th>\n",
              "      <td>4</td>\n",
              "      <td>Arabica</td>\n",
              "      <td>yidnekachew dabessa</td>\n",
              "      <td>Ethiopia</td>\n",
              "      <td>yidnekachew dabessa coffee plantation</td>\n",
              "      <td>NaN</td>\n",
              "      <td>wolensu</td>\n",
              "      <td>NaN</td>\n",
              "      <td>yidnekachew debessa coffee plantation</td>\n",
              "      <td>1800-2200</td>\n",
              "      <td>oromia</td>\n",
              "      <td>Yidnekachew Dabessa Coffee Plantation</td>\n",
              "      <td>320</td>\n",
              "      <td>60 kg</td>\n",
              "      <td>METAD Agricultural Development plc</td>\n",
              "      <td>2014</td>\n",
              "      <td>March 26th, 2015</td>\n",
              "      <td>Yidnekachew Dabessa</td>\n",
              "      <td>NaN</td>\n",
              "      <td>Natural / Dry</td>\n",
              "      <td>8.17</td>\n",
              "      <td>8.58</td>\n",
              "      <td>8.42</td>\n",
              "      <td>8.42</td>\n",
              "      <td>8.50</td>\n",
              "      <td>8.25</td>\n",
              "      <td>10.0</td>\n",
              "      <td>10.0</td>\n",
              "      <td>10.0</td>\n",
              "      <td>8.67</td>\n",
              "      <td>89.00</td>\n",
              "      <td>0.11</td>\n",
              "      <td>0</td>\n",
              "      <td>0.0</td>\n",
              "      <td>Green</td>\n",
              "      <td>2</td>\n",
              "      <td>March 25th, 2016</td>\n",
              "      <td>METAD Agricultural Development plc</td>\n",
              "      <td>309fcf77415a3661ae83e027f7e5f05dad786e44</td>\n",
              "      <td>19fef5a731de2db57d16da10287413f5f99bc2dd</td>\n",
              "      <td>m</td>\n",
              "      <td>1800.0</td>\n",
              "      <td>2200.0</td>\n",
              "      <td>2000.0</td>\n",
              "    </tr>\n",
              "    <tr>\n",
              "      <th>4</th>\n",
              "      <td>5</td>\n",
              "      <td>Arabica</td>\n",
              "      <td>metad plc</td>\n",
              "      <td>Ethiopia</td>\n",
              "      <td>metad plc</td>\n",
              "      <td>NaN</td>\n",
              "      <td>metad plc</td>\n",
              "      <td>2014/2015</td>\n",
              "      <td>metad agricultural developmet plc</td>\n",
              "      <td>1950-2200</td>\n",
              "      <td>guji-hambela</td>\n",
              "      <td>METAD PLC</td>\n",
              "      <td>300</td>\n",
              "      <td>60 kg</td>\n",
              "      <td>METAD Agricultural Development plc</td>\n",
              "      <td>2014</td>\n",
              "      <td>April 4th, 2015</td>\n",
              "      <td>metad plc</td>\n",
              "      <td>Other</td>\n",
              "      <td>Washed / Wet</td>\n",
              "      <td>8.25</td>\n",
              "      <td>8.50</td>\n",
              "      <td>8.25</td>\n",
              "      <td>8.50</td>\n",
              "      <td>8.42</td>\n",
              "      <td>8.33</td>\n",
              "      <td>10.0</td>\n",
              "      <td>10.0</td>\n",
              "      <td>10.0</td>\n",
              "      <td>8.58</td>\n",
              "      <td>88.83</td>\n",
              "      <td>0.12</td>\n",
              "      <td>0</td>\n",
              "      <td>0.0</td>\n",
              "      <td>Green</td>\n",
              "      <td>2</td>\n",
              "      <td>April 3rd, 2016</td>\n",
              "      <td>METAD Agricultural Development plc</td>\n",
              "      <td>309fcf77415a3661ae83e027f7e5f05dad786e44</td>\n",
              "      <td>19fef5a731de2db57d16da10287413f5f99bc2dd</td>\n",
              "      <td>m</td>\n",
              "      <td>1950.0</td>\n",
              "      <td>2200.0</td>\n",
              "      <td>2075.0</td>\n",
              "    </tr>\n",
              "  </tbody>\n",
              "</table>\n",
              "</div>"
            ],
            "text/plain": [
              "   Unnamed: 0  Species  ... altitude_high_meters altitude_mean_meters\n",
              "0           1  Arabica  ...               2200.0               2075.0\n",
              "1           2  Arabica  ...               2200.0               2075.0\n",
              "2           3  Arabica  ...               1800.0               1700.0\n",
              "3           4  Arabica  ...               2200.0               2000.0\n",
              "4           5  Arabica  ...               2200.0               2075.0\n",
              "\n",
              "[5 rows x 44 columns]"
            ]
          },
          "metadata": {
            "tags": []
          }
        },
        {
          "output_type": "stream",
          "text": [
            "Index(['Unnamed: 0', 'Species', 'Owner', 'Country.of.Origin', 'Farm.Name',\n",
            "       'Lot.Number', 'Mill', 'ICO.Number', 'Company', 'Altitude', 'Region',\n",
            "       'Producer', 'Number.of.Bags', 'Bag.Weight', 'In.Country.Partner',\n",
            "       'Harvest.Year', 'Grading.Date', 'Owner.1', 'Variety',\n",
            "       'Processing.Method', 'Aroma', 'Flavor', 'Aftertaste', 'Acidity', 'Body',\n",
            "       'Balance', 'Uniformity', 'Clean.Cup', 'Sweetness', 'Rating',\n",
            "       'Total.Cup.Points', 'Moisture', 'Category.One.Defects', 'Quakers',\n",
            "       'Color', 'Category.Two.Defects', 'Expiration', 'Certification.Body',\n",
            "       'Certification.Address', 'Certification.Contact', 'unit_of_measurement',\n",
            "       'altitude_low_meters', 'altitude_high_meters', 'altitude_mean_meters'],\n",
            "      dtype='object')\n"
          ],
          "name": "stdout"
        }
      ]
    },
    {
      "cell_type": "markdown",
      "metadata": {
        "id": "R3ZCvsrfQlw7",
        "colab_type": "text"
      },
      "source": [
        "# Examine correlations and PCs"
      ]
    },
    {
      "cell_type": "markdown",
      "metadata": {
        "id": "3kpkyGLHQt8f",
        "colab_type": "text"
      },
      "source": [
        "## Select features"
      ]
    },
    {
      "cell_type": "code",
      "metadata": {
        "id": "_pNnd_Bvv7vW",
        "colab_type": "code",
        "colab": {}
      },
      "source": [
        "\n",
        "# Extract some features \n",
        "X = ['Aroma', 'Flavor', 'Aftertaste', 'Acidity', 'Body',\n",
        "       'Balance', 'Uniformity', 'Clean.Cup', 'Sweetness']\n",
        "# And store our dv\n",
        "Y = ['Rating']\n",
        "\n",
        "df = df[(df[['Rating']] != 0).all(axis=1)]\n",
        "\n",
        "\n",
        "dfAll = df[X + Y]\n",
        "dfX = df[X]\n",
        "dfY = df[Y]"
      ],
      "execution_count": 0,
      "outputs": []
    },
    {
      "cell_type": "markdown",
      "metadata": {
        "id": "vAbRNI-ZQxVu",
        "colab_type": "text"
      },
      "source": [
        "## Describe data"
      ]
    },
    {
      "cell_type": "code",
      "metadata": {
        "id": "TBUZ9ooZRKcz",
        "colab_type": "code",
        "outputId": "e98700eb-ba92-4be3-8fe5-c09952a8a3af",
        "colab": {
          "base_uri": "https://localhost:8080/",
          "height": 297
        }
      },
      "source": [
        "dfAll.describe()"
      ],
      "execution_count": 0,
      "outputs": [
        {
          "output_type": "execute_result",
          "data": {
            "text/html": [
              "<div>\n",
              "<style scoped>\n",
              "    .dataframe tbody tr th:only-of-type {\n",
              "        vertical-align: middle;\n",
              "    }\n",
              "\n",
              "    .dataframe tbody tr th {\n",
              "        vertical-align: top;\n",
              "    }\n",
              "\n",
              "    .dataframe thead th {\n",
              "        text-align: right;\n",
              "    }\n",
              "</style>\n",
              "<table border=\"1\" class=\"dataframe\">\n",
              "  <thead>\n",
              "    <tr style=\"text-align: right;\">\n",
              "      <th></th>\n",
              "      <th>Aroma</th>\n",
              "      <th>Flavor</th>\n",
              "      <th>Aftertaste</th>\n",
              "      <th>Acidity</th>\n",
              "      <th>Body</th>\n",
              "      <th>Balance</th>\n",
              "      <th>Uniformity</th>\n",
              "      <th>Clean.Cup</th>\n",
              "      <th>Sweetness</th>\n",
              "      <th>Rating</th>\n",
              "    </tr>\n",
              "  </thead>\n",
              "  <tbody>\n",
              "    <tr>\n",
              "      <th>count</th>\n",
              "      <td>1310.000000</td>\n",
              "      <td>1310.000000</td>\n",
              "      <td>1310.000000</td>\n",
              "      <td>1310.000000</td>\n",
              "      <td>1310.000000</td>\n",
              "      <td>1310.000000</td>\n",
              "      <td>1310.000000</td>\n",
              "      <td>1310.000000</td>\n",
              "      <td>1310.000000</td>\n",
              "      <td>1310.000000</td>\n",
              "    </tr>\n",
              "    <tr>\n",
              "      <th>mean</th>\n",
              "      <td>7.569580</td>\n",
              "      <td>7.523809</td>\n",
              "      <td>7.403344</td>\n",
              "      <td>7.538863</td>\n",
              "      <td>7.523466</td>\n",
              "      <td>7.523244</td>\n",
              "      <td>9.840901</td>\n",
              "      <td>9.840626</td>\n",
              "      <td>9.910832</td>\n",
              "      <td>7.503588</td>\n",
              "    </tr>\n",
              "    <tr>\n",
              "      <th>std</th>\n",
              "      <td>0.315845</td>\n",
              "      <td>0.341897</td>\n",
              "      <td>0.349867</td>\n",
              "      <td>0.319912</td>\n",
              "      <td>0.293129</td>\n",
              "      <td>0.349304</td>\n",
              "      <td>0.489058</td>\n",
              "      <td>0.722158</td>\n",
              "      <td>0.454991</td>\n",
              "      <td>0.427138</td>\n",
              "    </tr>\n",
              "    <tr>\n",
              "      <th>min</th>\n",
              "      <td>5.080000</td>\n",
              "      <td>6.080000</td>\n",
              "      <td>6.170000</td>\n",
              "      <td>5.250000</td>\n",
              "      <td>5.250000</td>\n",
              "      <td>6.080000</td>\n",
              "      <td>6.000000</td>\n",
              "      <td>0.000000</td>\n",
              "      <td>1.330000</td>\n",
              "      <td>5.170000</td>\n",
              "    </tr>\n",
              "    <tr>\n",
              "      <th>25%</th>\n",
              "      <td>7.420000</td>\n",
              "      <td>7.330000</td>\n",
              "      <td>7.250000</td>\n",
              "      <td>7.330000</td>\n",
              "      <td>7.330000</td>\n",
              "      <td>7.330000</td>\n",
              "      <td>10.000000</td>\n",
              "      <td>10.000000</td>\n",
              "      <td>10.000000</td>\n",
              "      <td>7.250000</td>\n",
              "    </tr>\n",
              "    <tr>\n",
              "      <th>50%</th>\n",
              "      <td>7.580000</td>\n",
              "      <td>7.580000</td>\n",
              "      <td>7.420000</td>\n",
              "      <td>7.500000</td>\n",
              "      <td>7.500000</td>\n",
              "      <td>7.500000</td>\n",
              "      <td>10.000000</td>\n",
              "      <td>10.000000</td>\n",
              "      <td>10.000000</td>\n",
              "      <td>7.500000</td>\n",
              "    </tr>\n",
              "    <tr>\n",
              "      <th>75%</th>\n",
              "      <td>7.750000</td>\n",
              "      <td>7.750000</td>\n",
              "      <td>7.580000</td>\n",
              "      <td>7.750000</td>\n",
              "      <td>7.670000</td>\n",
              "      <td>7.750000</td>\n",
              "      <td>10.000000</td>\n",
              "      <td>10.000000</td>\n",
              "      <td>10.000000</td>\n",
              "      <td>7.750000</td>\n",
              "    </tr>\n",
              "    <tr>\n",
              "      <th>max</th>\n",
              "      <td>8.750000</td>\n",
              "      <td>8.830000</td>\n",
              "      <td>8.670000</td>\n",
              "      <td>8.750000</td>\n",
              "      <td>8.580000</td>\n",
              "      <td>8.750000</td>\n",
              "      <td>10.000000</td>\n",
              "      <td>10.000000</td>\n",
              "      <td>10.000000</td>\n",
              "      <td>10.000000</td>\n",
              "    </tr>\n",
              "  </tbody>\n",
              "</table>\n",
              "</div>"
            ],
            "text/plain": [
              "             Aroma       Flavor  ...    Sweetness       Rating\n",
              "count  1310.000000  1310.000000  ...  1310.000000  1310.000000\n",
              "mean      7.569580     7.523809  ...     9.910832     7.503588\n",
              "std       0.315845     0.341897  ...     0.454991     0.427138\n",
              "min       5.080000     6.080000  ...     1.330000     5.170000\n",
              "25%       7.420000     7.330000  ...    10.000000     7.250000\n",
              "50%       7.580000     7.580000  ...    10.000000     7.500000\n",
              "75%       7.750000     7.750000  ...    10.000000     7.750000\n",
              "max       8.750000     8.830000  ...    10.000000    10.000000\n",
              "\n",
              "[8 rows x 10 columns]"
            ]
          },
          "metadata": {
            "tags": []
          },
          "execution_count": 7
        }
      ]
    },
    {
      "cell_type": "markdown",
      "metadata": {
        "id": "eB2tagwmJLzK",
        "colab_type": "text"
      },
      "source": [
        "A couple of things here. \n",
        "\n",
        "1. First of all, there's *very* lttle variance in ratings. All ratings are constrained between 5-8. But come on, everyone has had really crappy coffee before. \n",
        "\n",
        "2. Second, many of the features hover around a 7. \n",
        "\n",
        "3. Third, clean cup and uniformity have the most variance, and these features are the most abstract, so that makes sense. "
      ]
    },
    {
      "cell_type": "markdown",
      "metadata": {
        "id": "uUMzAXChQ3op",
        "colab_type": "text"
      },
      "source": [
        "## Correlations"
      ]
    },
    {
      "cell_type": "code",
      "metadata": {
        "id": "LvrR4rp7haQX",
        "colab_type": "code",
        "outputId": "fb77d612-4a92-4064-fc74-f7c3bbfc6c9b",
        "colab": {
          "base_uri": "https://localhost:8080/",
          "height": 655
        }
      },
      "source": [
        "\n",
        "# Correlation table\n",
        "corr = dfAll.corr()\n",
        "display(corr)\n",
        "ax = sns.heatmap(corr, cmap=\"gist_yarg_r\")\n"
      ],
      "execution_count": 0,
      "outputs": [
        {
          "output_type": "display_data",
          "data": {
            "text/html": [
              "<div>\n",
              "<style scoped>\n",
              "    .dataframe tbody tr th:only-of-type {\n",
              "        vertical-align: middle;\n",
              "    }\n",
              "\n",
              "    .dataframe tbody tr th {\n",
              "        vertical-align: top;\n",
              "    }\n",
              "\n",
              "    .dataframe thead th {\n",
              "        text-align: right;\n",
              "    }\n",
              "</style>\n",
              "<table border=\"1\" class=\"dataframe\">\n",
              "  <thead>\n",
              "    <tr style=\"text-align: right;\">\n",
              "      <th></th>\n",
              "      <th>Aroma</th>\n",
              "      <th>Flavor</th>\n",
              "      <th>Aftertaste</th>\n",
              "      <th>Acidity</th>\n",
              "      <th>Body</th>\n",
              "      <th>Balance</th>\n",
              "      <th>Uniformity</th>\n",
              "      <th>Clean.Cup</th>\n",
              "      <th>Sweetness</th>\n",
              "      <th>Rating</th>\n",
              "    </tr>\n",
              "  </thead>\n",
              "  <tbody>\n",
              "    <tr>\n",
              "      <th>Aroma</th>\n",
              "      <td>1.000000</td>\n",
              "      <td>0.740395</td>\n",
              "      <td>0.692871</td>\n",
              "      <td>0.606234</td>\n",
              "      <td>0.554014</td>\n",
              "      <td>0.606595</td>\n",
              "      <td>0.133865</td>\n",
              "      <td>0.179784</td>\n",
              "      <td>0.059936</td>\n",
              "      <td>0.602972</td>\n",
              "    </tr>\n",
              "    <tr>\n",
              "      <th>Flavor</th>\n",
              "      <td>0.740395</td>\n",
              "      <td>1.000000</td>\n",
              "      <td>0.858199</td>\n",
              "      <td>0.744688</td>\n",
              "      <td>0.661650</td>\n",
              "      <td>0.731159</td>\n",
              "      <td>0.209349</td>\n",
              "      <td>0.266128</td>\n",
              "      <td>0.127921</td>\n",
              "      <td>0.741784</td>\n",
              "    </tr>\n",
              "    <tr>\n",
              "      <th>Aftertaste</th>\n",
              "      <td>0.692871</td>\n",
              "      <td>0.858199</td>\n",
              "      <td>1.000000</td>\n",
              "      <td>0.714618</td>\n",
              "      <td>0.665648</td>\n",
              "      <td>0.761918</td>\n",
              "      <td>0.204337</td>\n",
              "      <td>0.257380</td>\n",
              "      <td>0.111626</td>\n",
              "      <td>0.730631</td>\n",
              "    </tr>\n",
              "    <tr>\n",
              "      <th>Acidity</th>\n",
              "      <td>0.606234</td>\n",
              "      <td>0.744688</td>\n",
              "      <td>0.714618</td>\n",
              "      <td>1.000000</td>\n",
              "      <td>0.609961</td>\n",
              "      <td>0.643305</td>\n",
              "      <td>0.147602</td>\n",
              "      <td>0.136698</td>\n",
              "      <td>0.069022</td>\n",
              "      <td>0.612921</td>\n",
              "    </tr>\n",
              "    <tr>\n",
              "      <th>Body</th>\n",
              "      <td>0.554014</td>\n",
              "      <td>0.661650</td>\n",
              "      <td>0.665648</td>\n",
              "      <td>0.609961</td>\n",
              "      <td>1.000000</td>\n",
              "      <td>0.672963</td>\n",
              "      <td>0.080863</td>\n",
              "      <td>0.108637</td>\n",
              "      <td>0.040754</td>\n",
              "      <td>0.570301</td>\n",
              "    </tr>\n",
              "    <tr>\n",
              "      <th>Balance</th>\n",
              "      <td>0.606595</td>\n",
              "      <td>0.731159</td>\n",
              "      <td>0.761918</td>\n",
              "      <td>0.643305</td>\n",
              "      <td>0.672963</td>\n",
              "      <td>1.000000</td>\n",
              "      <td>0.207776</td>\n",
              "      <td>0.241295</td>\n",
              "      <td>0.107527</td>\n",
              "      <td>0.670284</td>\n",
              "    </tr>\n",
              "    <tr>\n",
              "      <th>Uniformity</th>\n",
              "      <td>0.133865</td>\n",
              "      <td>0.209349</td>\n",
              "      <td>0.204337</td>\n",
              "      <td>0.147602</td>\n",
              "      <td>0.080863</td>\n",
              "      <td>0.207776</td>\n",
              "      <td>1.000000</td>\n",
              "      <td>0.433037</td>\n",
              "      <td>0.383786</td>\n",
              "      <td>0.186161</td>\n",
              "    </tr>\n",
              "    <tr>\n",
              "      <th>Clean.Cup</th>\n",
              "      <td>0.179784</td>\n",
              "      <td>0.266128</td>\n",
              "      <td>0.257380</td>\n",
              "      <td>0.136698</td>\n",
              "      <td>0.108637</td>\n",
              "      <td>0.241295</td>\n",
              "      <td>0.433037</td>\n",
              "      <td>1.000000</td>\n",
              "      <td>0.429211</td>\n",
              "      <td>0.241335</td>\n",
              "    </tr>\n",
              "    <tr>\n",
              "      <th>Sweetness</th>\n",
              "      <td>0.059936</td>\n",
              "      <td>0.127921</td>\n",
              "      <td>0.111626</td>\n",
              "      <td>0.069022</td>\n",
              "      <td>0.040754</td>\n",
              "      <td>0.107527</td>\n",
              "      <td>0.383786</td>\n",
              "      <td>0.429211</td>\n",
              "      <td>1.000000</td>\n",
              "      <td>0.097213</td>\n",
              "    </tr>\n",
              "    <tr>\n",
              "      <th>Rating</th>\n",
              "      <td>0.602972</td>\n",
              "      <td>0.741784</td>\n",
              "      <td>0.730631</td>\n",
              "      <td>0.612921</td>\n",
              "      <td>0.570301</td>\n",
              "      <td>0.670284</td>\n",
              "      <td>0.186161</td>\n",
              "      <td>0.241335</td>\n",
              "      <td>0.097213</td>\n",
              "      <td>1.000000</td>\n",
              "    </tr>\n",
              "  </tbody>\n",
              "</table>\n",
              "</div>"
            ],
            "text/plain": [
              "               Aroma    Flavor  Aftertaste  ...  Clean.Cup  Sweetness    Rating\n",
              "Aroma       1.000000  0.740395    0.692871  ...   0.179784   0.059936  0.602972\n",
              "Flavor      0.740395  1.000000    0.858199  ...   0.266128   0.127921  0.741784\n",
              "Aftertaste  0.692871  0.858199    1.000000  ...   0.257380   0.111626  0.730631\n",
              "Acidity     0.606234  0.744688    0.714618  ...   0.136698   0.069022  0.612921\n",
              "Body        0.554014  0.661650    0.665648  ...   0.108637   0.040754  0.570301\n",
              "Balance     0.606595  0.731159    0.761918  ...   0.241295   0.107527  0.670284\n",
              "Uniformity  0.133865  0.209349    0.204337  ...   0.433037   0.383786  0.186161\n",
              "Clean.Cup   0.179784  0.266128    0.257380  ...   1.000000   0.429211  0.241335\n",
              "Sweetness   0.059936  0.127921    0.111626  ...   0.429211   1.000000  0.097213\n",
              "Rating      0.602972  0.741784    0.730631  ...   0.241335   0.097213  1.000000\n",
              "\n",
              "[10 rows x 10 columns]"
            ]
          },
          "metadata": {
            "tags": []
          }
        },
        {
          "output_type": "display_data",
          "data": {
            "image/png": "[encoded data removed]",
            "text/plain": [
              "<Figure size 432x288 with 2 Axes>"
            ]
          },
          "metadata": {
            "tags": []
          }
        }
      ]
    },
    {
      "cell_type": "markdown",
      "metadata": {
        "id": "aIOruRg6Q8xQ",
        "colab_type": "text"
      },
      "source": [
        "# Build Model"
      ]
    },
    {
      "cell_type": "markdown",
      "metadata": {
        "id": "xmcTHYFefaRg",
        "colab_type": "text"
      },
      "source": [
        "## Define model methods"
      ]
    },
    {
      "cell_type": "code",
      "metadata": {
        "id": "LXtVzMwcR9EA",
        "colab_type": "code",
        "colab": {}
      },
      "source": [
        "\n",
        "import numpy as np\n",
        "import statsmodels.api as sm\n",
        "import statsmodels.stats.api as sms\n",
        "import pandas as pd\n",
        "import io\n",
        "import requests\n",
        "import matplotlib.pyplot as plt\n",
        "from matplotlib.pyplot import figure\n",
        "import seaborn as sns\n",
        "from statsmodels.stats.stattools import omni_normtest\n",
        "\n",
        "\n",
        "def linear_model(IVs, DVs, df):\n",
        "  \"\"\"\n",
        "  Fits a linear model with a robust covariance structure -\n",
        "  Returns model object and results \n",
        "  \"\"\"\n",
        "\n",
        "  # Make model \n",
        "  model = sm.OLS(df[DV], sm.add_constant(df[IVs])).fit(cov_type = \"HC2\")\n",
        "\n",
        "  # Print results \n",
        "  print(model.summary())\n",
        "  return model\n",
        "\n",
        "\n",
        "\n",
        "def analyze_residuals(model):\n",
        "  \"\"\"\n",
        "  Analyze residuals - \n",
        "  \n",
        "  Prints summary statistics, graphs residuals, \n",
        "  and looks at countries with high and low residuals \n",
        "  \"\"\"\n",
        "  r = pd.DataFrame(model.resid, columns=['resid'])\n",
        "  plt.figure(figsize=(12,10))\n",
        "  sns.distplot(r)\n",
        "  \n",
        "  # Look at influential points \n",
        "  fig, ax = plt.subplots(figsize=(12,8))\n",
        "  fig = sm.graphics.influence_plot(model, ax=ax)\n",
        "  \n",
        "  # Look at residual summary statistics \n",
        "  print ('-'*30 + 'resid' + '-'*30)\n",
        "  print (r.describe())\n",
        "  print ('\\n')\n",
        "  \n",
        "  # Sort residuals \n",
        "  r_sort = r.sort_values('resid')\n",
        "  \n",
        "  # Print overperformers (large positive residuals)\n",
        "  print(\"*\"*20, \"Overperformers\", \"*\"*20)\n",
        "  overperformers = df.iloc[r_sort.head(5).index.values.tolist() ]\n",
        "  display(overperformers)\n",
        "  \n",
        "  # Print underperformers (large negative residuals)\n",
        "  print(\"*\"*20, \"Underperformers\", \"*\"*20)\n",
        "  underperformers = df.iloc[r_sort.tail(5).index.values.tolist() ]\n",
        "  display(underperformers)"
      ],
      "execution_count": 0,
      "outputs": []
    },
    {
      "cell_type": "markdown",
      "metadata": {
        "id": "v5mZCKAHfkxf",
        "colab_type": "text"
      },
      "source": [
        "## Create and analyze model"
      ]
    },
    {
      "cell_type": "code",
      "metadata": {
        "id": "PuzOSTYZePUT",
        "colab_type": "code",
        "outputId": "bfd8b0bc-6e69-4b05-ac2c-3dea3a362075",
        "colab": {
          "base_uri": "https://localhost:8080/",
          "height": 375
        }
      },
      "source": [
        "  # Select variables \n",
        "  IVs = ['Aroma', 'Flavor', 'Aftertaste', 'Acidity', 'Body',\n",
        "         'Balance', 'Uniformity', 'Clean.Cup', 'Sweetness', \"Moisture\"]\n",
        "  DV = [\"Rating\"]\n",
        "  \n",
        "  model = linear_model(IVs, DV, df)\n",
        "  analyze_residuals(model)\n",
        "  \n",
        "  "
      ],
      "execution_count": 0,
      "outputs": [
        {
          "output_type": "error",
          "ename": "KeyError",
          "evalue": "ignored",
          "traceback": [
            "\u001b[0;31m---------------------------------------------------------------------------\u001b[0m",
            "\u001b[0;31mKeyError\u001b[0m                                  Traceback (most recent call last)",
            "\u001b[0;32m<ipython-input-51-41e66e68a115>\u001b[0m in \u001b[0;36m<module>\u001b[0;34m()\u001b[0m\n\u001b[1;32m      3\u001b[0m \u001b[0mDV\u001b[0m \u001b[0;34m=\u001b[0m \u001b[0;34m[\u001b[0m\u001b[0;34m\"Rating\"\u001b[0m\u001b[0;34m]\u001b[0m\u001b[0;34m\u001b[0m\u001b[0;34m\u001b[0m\u001b[0m\n\u001b[1;32m      4\u001b[0m \u001b[0;34m\u001b[0m\u001b[0m\n\u001b[0;32m----> 5\u001b[0;31m \u001b[0mmodel\u001b[0m \u001b[0;34m=\u001b[0m \u001b[0mlinear_model\u001b[0m\u001b[0;34m(\u001b[0m\u001b[0mIVs\u001b[0m\u001b[0;34m,\u001b[0m \u001b[0mDV\u001b[0m\u001b[0;34m,\u001b[0m \u001b[0mdf\u001b[0m\u001b[0;34m)\u001b[0m\u001b[0;34m\u001b[0m\u001b[0;34m\u001b[0m\u001b[0m\n\u001b[0m\u001b[1;32m      6\u001b[0m \u001b[0manalyze_residuals\u001b[0m\u001b[0;34m(\u001b[0m\u001b[0mmodel\u001b[0m\u001b[0;34m)\u001b[0m\u001b[0;34m\u001b[0m\u001b[0;34m\u001b[0m\u001b[0m\n\u001b[1;32m      7\u001b[0m \u001b[0;34m\u001b[0m\u001b[0m\n",
            "\u001b[0;32m<ipython-input-12-82c3e410ac4a>\u001b[0m in \u001b[0;36mlinear_model\u001b[0;34m(IVs, DVs, df)\u001b[0m\n\u001b[1;32m     19\u001b[0m \u001b[0;34m\u001b[0m\u001b[0m\n\u001b[1;32m     20\u001b[0m   \u001b[0;31m# Make model\u001b[0m\u001b[0;34m\u001b[0m\u001b[0;34m\u001b[0m\u001b[0;34m\u001b[0m\u001b[0m\n\u001b[0;32m---> 21\u001b[0;31m   \u001b[0mmodel\u001b[0m \u001b[0;34m=\u001b[0m \u001b[0msm\u001b[0m\u001b[0;34m.\u001b[0m\u001b[0mOLS\u001b[0m\u001b[0;34m(\u001b[0m\u001b[0mdf\u001b[0m\u001b[0;34m[\u001b[0m\u001b[0mDV\u001b[0m\u001b[0;34m]\u001b[0m\u001b[0;34m,\u001b[0m \u001b[0msm\u001b[0m\u001b[0;34m.\u001b[0m\u001b[0madd_constant\u001b[0m\u001b[0;34m(\u001b[0m\u001b[0mdf\u001b[0m\u001b[0;34m[\u001b[0m\u001b[0mIVs\u001b[0m\u001b[0;34m]\u001b[0m\u001b[0;34m)\u001b[0m\u001b[0;34m)\u001b[0m\u001b[0;34m.\u001b[0m\u001b[0mfit\u001b[0m\u001b[0;34m(\u001b[0m\u001b[0mcov_type\u001b[0m \u001b[0;34m=\u001b[0m \u001b[0;34m\"HC2\"\u001b[0m\u001b[0;34m)\u001b[0m\u001b[0;34m\u001b[0m\u001b[0;34m\u001b[0m\u001b[0m\n\u001b[0m\u001b[1;32m     22\u001b[0m \u001b[0;34m\u001b[0m\u001b[0m\n\u001b[1;32m     23\u001b[0m   \u001b[0;31m# Print results\u001b[0m\u001b[0;34m\u001b[0m\u001b[0;34m\u001b[0m\u001b[0;34m\u001b[0m\u001b[0m\n",
            "\u001b[0;32m/usr/local/lib/python3.6/dist-packages/pandas/core/frame.py\u001b[0m in \u001b[0;36m__getitem__\u001b[0;34m(self, key)\u001b[0m\n\u001b[1;32m   2932\u001b[0m                 \u001b[0mkey\u001b[0m \u001b[0;34m=\u001b[0m \u001b[0mlist\u001b[0m\u001b[0;34m(\u001b[0m\u001b[0mkey\u001b[0m\u001b[0;34m)\u001b[0m\u001b[0;34m\u001b[0m\u001b[0;34m\u001b[0m\u001b[0m\n\u001b[1;32m   2933\u001b[0m             indexer = self.loc._convert_to_indexer(key, axis=1,\n\u001b[0;32m-> 2934\u001b[0;31m                                                    raise_missing=True)\n\u001b[0m\u001b[1;32m   2935\u001b[0m \u001b[0;34m\u001b[0m\u001b[0m\n\u001b[1;32m   2936\u001b[0m         \u001b[0;31m# take() does not accept boolean indexers\u001b[0m\u001b[0;34m\u001b[0m\u001b[0;34m\u001b[0m\u001b[0;34m\u001b[0m\u001b[0m\n",
            "\u001b[0;32m/usr/local/lib/python3.6/dist-packages/pandas/core/indexing.py\u001b[0m in \u001b[0;36m_convert_to_indexer\u001b[0;34m(self, obj, axis, is_setter, raise_missing)\u001b[0m\n\u001b[1;32m   1352\u001b[0m                 kwargs = {'raise_missing': True if is_setter else\n\u001b[1;32m   1353\u001b[0m                           raise_missing}\n\u001b[0;32m-> 1354\u001b[0;31m                 \u001b[0;32mreturn\u001b[0m \u001b[0mself\u001b[0m\u001b[0;34m.\u001b[0m\u001b[0m_get_listlike_indexer\u001b[0m\u001b[0;34m(\u001b[0m\u001b[0mobj\u001b[0m\u001b[0;34m,\u001b[0m \u001b[0maxis\u001b[0m\u001b[0;34m,\u001b[0m \u001b[0;34m**\u001b[0m\u001b[0mkwargs\u001b[0m\u001b[0;34m)\u001b[0m\u001b[0;34m[\u001b[0m\u001b[0;36m1\u001b[0m\u001b[0;34m]\u001b[0m\u001b[0;34m\u001b[0m\u001b[0;34m\u001b[0m\u001b[0m\n\u001b[0m\u001b[1;32m   1355\u001b[0m         \u001b[0;32melse\u001b[0m\u001b[0;34m:\u001b[0m\u001b[0;34m\u001b[0m\u001b[0;34m\u001b[0m\u001b[0m\n\u001b[1;32m   1356\u001b[0m             \u001b[0;32mtry\u001b[0m\u001b[0;34m:\u001b[0m\u001b[0;34m\u001b[0m\u001b[0;34m\u001b[0m\u001b[0m\n",
            "\u001b[0;32m/usr/local/lib/python3.6/dist-packages/pandas/core/indexing.py\u001b[0m in \u001b[0;36m_get_listlike_indexer\u001b[0;34m(self, key, axis, raise_missing)\u001b[0m\n\u001b[1;32m   1159\u001b[0m         self._validate_read_indexer(keyarr, indexer,\n\u001b[1;32m   1160\u001b[0m                                     \u001b[0mo\u001b[0m\u001b[0;34m.\u001b[0m\u001b[0m_get_axis_number\u001b[0m\u001b[0;34m(\u001b[0m\u001b[0maxis\u001b[0m\u001b[0;34m)\u001b[0m\u001b[0;34m,\u001b[0m\u001b[0;34m\u001b[0m\u001b[0;34m\u001b[0m\u001b[0m\n\u001b[0;32m-> 1161\u001b[0;31m                                     raise_missing=raise_missing)\n\u001b[0m\u001b[1;32m   1162\u001b[0m         \u001b[0;32mreturn\u001b[0m \u001b[0mkeyarr\u001b[0m\u001b[0;34m,\u001b[0m \u001b[0mindexer\u001b[0m\u001b[0;34m\u001b[0m\u001b[0;34m\u001b[0m\u001b[0m\n\u001b[1;32m   1163\u001b[0m \u001b[0;34m\u001b[0m\u001b[0m\n",
            "\u001b[0;32m/usr/local/lib/python3.6/dist-packages/pandas/core/indexing.py\u001b[0m in \u001b[0;36m_validate_read_indexer\u001b[0;34m(self, key, indexer, axis, raise_missing)\u001b[0m\n\u001b[1;32m   1244\u001b[0m                 raise KeyError(\n\u001b[1;32m   1245\u001b[0m                     u\"None of [{key}] are in the [{axis}]\".format(\n\u001b[0;32m-> 1246\u001b[0;31m                         key=key, axis=self.obj._get_axis_name(axis)))\n\u001b[0m\u001b[1;32m   1247\u001b[0m \u001b[0;34m\u001b[0m\u001b[0m\n\u001b[1;32m   1248\u001b[0m             \u001b[0;31m# We (temporarily) allow for some missing keys with .loc, except in\u001b[0m\u001b[0;34m\u001b[0m\u001b[0;34m\u001b[0m\u001b[0;34m\u001b[0m\u001b[0m\n",
            "\u001b[0;31mKeyError\u001b[0m: \"None of [Index(['Rating'], dtype='object')] are in the [columns]\""
          ]
        }
      ]
    },
    {
      "cell_type": "code",
      "metadata": {
        "id": "Cyii4yRbmoOo",
        "colab_type": "code",
        "outputId": "ddfcb4e6-2da7-4acf-8fcb-3f05b5e14905",
        "colab": {
          "base_uri": "https://localhost:8080/",
          "height": 698
        }
      },
      "source": [
        "  # Select variables \n",
        "  IVs = ['Aroma', 'Flavor', 'Aftertaste', 'Acidity', 'Body',\n",
        "         'Balance', 'Uniformity', 'Clean.Cup', 'Sweetness', \"Moisture\"]\n",
        "  DV = [\"Rating\"]\n",
        "  \n",
        "  df2 = df[ (df[\"Country.of.Origin\"] == \"Taiwan\") | (df[\"Country.of.Origin\"] == \"China\")]\n",
        "  \n",
        "  model = linear_model(IVs, DV, df2)\n",
        "  analyze_residuals(model)\n",
        "  \n",
        "  "
      ],
      "execution_count": 0,
      "outputs": [
        {
          "output_type": "error",
          "ename": "KeyError",
          "evalue": "ignored",
          "traceback": [
            "\u001b[0;31m---------------------------------------------------------------------------\u001b[0m",
            "\u001b[0;31mKeyError\u001b[0m                                  Traceback (most recent call last)",
            "\u001b[0;32m/usr/local/lib/python3.6/dist-packages/pandas/core/indexes/base.py\u001b[0m in \u001b[0;36mget_loc\u001b[0;34m(self, key, method, tolerance)\u001b[0m\n\u001b[1;32m   2656\u001b[0m             \u001b[0;32mtry\u001b[0m\u001b[0;34m:\u001b[0m\u001b[0;34m\u001b[0m\u001b[0;34m\u001b[0m\u001b[0m\n\u001b[0;32m-> 2657\u001b[0;31m                 \u001b[0;32mreturn\u001b[0m \u001b[0mself\u001b[0m\u001b[0;34m.\u001b[0m\u001b[0m_engine\u001b[0m\u001b[0;34m.\u001b[0m\u001b[0mget_loc\u001b[0m\u001b[0;34m(\u001b[0m\u001b[0mkey\u001b[0m\u001b[0;34m)\u001b[0m\u001b[0;34m\u001b[0m\u001b[0;34m\u001b[0m\u001b[0m\n\u001b[0m\u001b[1;32m   2658\u001b[0m             \u001b[0;32mexcept\u001b[0m \u001b[0mKeyError\u001b[0m\u001b[0;34m:\u001b[0m\u001b[0;34m\u001b[0m\u001b[0;34m\u001b[0m\u001b[0m\n",
            "\u001b[0;32mpandas/_libs/index.pyx\u001b[0m in \u001b[0;36mpandas._libs.index.IndexEngine.get_loc\u001b[0;34m()\u001b[0m\n",
            "\u001b[0;32mpandas/_libs/index.pyx\u001b[0m in \u001b[0;36mpandas._libs.index.IndexEngine.get_loc\u001b[0;34m()\u001b[0m\n",
            "\u001b[0;32mpandas/_libs/hashtable_class_helper.pxi\u001b[0m in \u001b[0;36mpandas._libs.hashtable.PyObjectHashTable.get_item\u001b[0;34m()\u001b[0m\n",
            "\u001b[0;32mpandas/_libs/hashtable_class_helper.pxi\u001b[0m in \u001b[0;36mpandas._libs.hashtable.PyObjectHashTable.get_item\u001b[0;34m()\u001b[0m\n",
            "\u001b[0;31mKeyError\u001b[0m: 'Country.of.Origin'",
            "\nDuring handling of the above exception, another exception occurred:\n",
            "\u001b[0;31mKeyError\u001b[0m                                  Traceback (most recent call last)",
            "\u001b[0;32m<ipython-input-52-656fc640aae3>\u001b[0m in \u001b[0;36m<module>\u001b[0;34m()\u001b[0m\n\u001b[1;32m      3\u001b[0m \u001b[0mDV\u001b[0m \u001b[0;34m=\u001b[0m \u001b[0;34m[\u001b[0m\u001b[0;34m\"Rating\"\u001b[0m\u001b[0;34m]\u001b[0m\u001b[0;34m\u001b[0m\u001b[0;34m\u001b[0m\u001b[0m\n\u001b[1;32m      4\u001b[0m \u001b[0;34m\u001b[0m\u001b[0m\n\u001b[0;32m----> 5\u001b[0;31m \u001b[0mdf2\u001b[0m \u001b[0;34m=\u001b[0m \u001b[0mdf\u001b[0m\u001b[0;34m[\u001b[0m \u001b[0;34m(\u001b[0m\u001b[0mdf\u001b[0m\u001b[0;34m[\u001b[0m\u001b[0;34m\"Country.of.Origin\"\u001b[0m\u001b[0;34m]\u001b[0m \u001b[0;34m==\u001b[0m \u001b[0;34m\"Taiwan\"\u001b[0m\u001b[0;34m)\u001b[0m \u001b[0;34m|\u001b[0m \u001b[0;34m(\u001b[0m\u001b[0mdf\u001b[0m\u001b[0;34m[\u001b[0m\u001b[0;34m\"Country.of.Origin\"\u001b[0m\u001b[0;34m]\u001b[0m \u001b[0;34m==\u001b[0m \u001b[0;34m\"China\"\u001b[0m\u001b[0;34m)\u001b[0m\u001b[0;34m]\u001b[0m\u001b[0;34m\u001b[0m\u001b[0;34m\u001b[0m\u001b[0m\n\u001b[0m\u001b[1;32m      6\u001b[0m \u001b[0;34m\u001b[0m\u001b[0m\n\u001b[1;32m      7\u001b[0m \u001b[0mmodel\u001b[0m \u001b[0;34m=\u001b[0m \u001b[0mlinear_model\u001b[0m\u001b[0;34m(\u001b[0m\u001b[0mIVs\u001b[0m\u001b[0;34m,\u001b[0m \u001b[0mDV\u001b[0m\u001b[0;34m,\u001b[0m \u001b[0mdf2\u001b[0m\u001b[0;34m)\u001b[0m\u001b[0;34m\u001b[0m\u001b[0;34m\u001b[0m\u001b[0m\n",
            "\u001b[0;32m/usr/local/lib/python3.6/dist-packages/pandas/core/frame.py\u001b[0m in \u001b[0;36m__getitem__\u001b[0;34m(self, key)\u001b[0m\n\u001b[1;32m   2925\u001b[0m             \u001b[0;32mif\u001b[0m \u001b[0mself\u001b[0m\u001b[0;34m.\u001b[0m\u001b[0mcolumns\u001b[0m\u001b[0;34m.\u001b[0m\u001b[0mnlevels\u001b[0m \u001b[0;34m>\u001b[0m \u001b[0;36m1\u001b[0m\u001b[0;34m:\u001b[0m\u001b[0;34m\u001b[0m\u001b[0;34m\u001b[0m\u001b[0m\n\u001b[1;32m   2926\u001b[0m                 \u001b[0;32mreturn\u001b[0m \u001b[0mself\u001b[0m\u001b[0;34m.\u001b[0m\u001b[0m_getitem_multilevel\u001b[0m\u001b[0;34m(\u001b[0m\u001b[0mkey\u001b[0m\u001b[0;34m)\u001b[0m\u001b[0;34m\u001b[0m\u001b[0;34m\u001b[0m\u001b[0m\n\u001b[0;32m-> 2927\u001b[0;31m             \u001b[0mindexer\u001b[0m \u001b[0;34m=\u001b[0m \u001b[0mself\u001b[0m\u001b[0;34m.\u001b[0m\u001b[0mcolumns\u001b[0m\u001b[0;34m.\u001b[0m\u001b[0mget_loc\u001b[0m\u001b[0;34m(\u001b[0m\u001b[0mkey\u001b[0m\u001b[0;34m)\u001b[0m\u001b[0;34m\u001b[0m\u001b[0;34m\u001b[0m\u001b[0m\n\u001b[0m\u001b[1;32m   2928\u001b[0m             \u001b[0;32mif\u001b[0m \u001b[0mis_integer\u001b[0m\u001b[0;34m(\u001b[0m\u001b[0mindexer\u001b[0m\u001b[0;34m)\u001b[0m\u001b[0;34m:\u001b[0m\u001b[0;34m\u001b[0m\u001b[0;34m\u001b[0m\u001b[0m\n\u001b[1;32m   2929\u001b[0m                 \u001b[0mindexer\u001b[0m \u001b[0;34m=\u001b[0m \u001b[0;34m[\u001b[0m\u001b[0mindexer\u001b[0m\u001b[0;34m]\u001b[0m\u001b[0;34m\u001b[0m\u001b[0;34m\u001b[0m\u001b[0m\n",
            "\u001b[0;32m/usr/local/lib/python3.6/dist-packages/pandas/core/indexes/base.py\u001b[0m in \u001b[0;36mget_loc\u001b[0;34m(self, key, method, tolerance)\u001b[0m\n\u001b[1;32m   2657\u001b[0m                 \u001b[0;32mreturn\u001b[0m \u001b[0mself\u001b[0m\u001b[0;34m.\u001b[0m\u001b[0m_engine\u001b[0m\u001b[0;34m.\u001b[0m\u001b[0mget_loc\u001b[0m\u001b[0;34m(\u001b[0m\u001b[0mkey\u001b[0m\u001b[0;34m)\u001b[0m\u001b[0;34m\u001b[0m\u001b[0;34m\u001b[0m\u001b[0m\n\u001b[1;32m   2658\u001b[0m             \u001b[0;32mexcept\u001b[0m \u001b[0mKeyError\u001b[0m\u001b[0;34m:\u001b[0m\u001b[0;34m\u001b[0m\u001b[0;34m\u001b[0m\u001b[0m\n\u001b[0;32m-> 2659\u001b[0;31m                 \u001b[0;32mreturn\u001b[0m \u001b[0mself\u001b[0m\u001b[0;34m.\u001b[0m\u001b[0m_engine\u001b[0m\u001b[0;34m.\u001b[0m\u001b[0mget_loc\u001b[0m\u001b[0;34m(\u001b[0m\u001b[0mself\u001b[0m\u001b[0;34m.\u001b[0m\u001b[0m_maybe_cast_indexer\u001b[0m\u001b[0;34m(\u001b[0m\u001b[0mkey\u001b[0m\u001b[0;34m)\u001b[0m\u001b[0;34m)\u001b[0m\u001b[0;34m\u001b[0m\u001b[0;34m\u001b[0m\u001b[0m\n\u001b[0m\u001b[1;32m   2660\u001b[0m         \u001b[0mindexer\u001b[0m \u001b[0;34m=\u001b[0m \u001b[0mself\u001b[0m\u001b[0;34m.\u001b[0m\u001b[0mget_indexer\u001b[0m\u001b[0;34m(\u001b[0m\u001b[0;34m[\u001b[0m\u001b[0mkey\u001b[0m\u001b[0;34m]\u001b[0m\u001b[0;34m,\u001b[0m \u001b[0mmethod\u001b[0m\u001b[0;34m=\u001b[0m\u001b[0mmethod\u001b[0m\u001b[0;34m,\u001b[0m \u001b[0mtolerance\u001b[0m\u001b[0;34m=\u001b[0m\u001b[0mtolerance\u001b[0m\u001b[0;34m)\u001b[0m\u001b[0;34m\u001b[0m\u001b[0;34m\u001b[0m\u001b[0m\n\u001b[1;32m   2661\u001b[0m         \u001b[0;32mif\u001b[0m \u001b[0mindexer\u001b[0m\u001b[0;34m.\u001b[0m\u001b[0mndim\u001b[0m \u001b[0;34m>\u001b[0m \u001b[0;36m1\u001b[0m \u001b[0;32mor\u001b[0m \u001b[0mindexer\u001b[0m\u001b[0;34m.\u001b[0m\u001b[0msize\u001b[0m \u001b[0;34m>\u001b[0m \u001b[0;36m1\u001b[0m\u001b[0;34m:\u001b[0m\u001b[0;34m\u001b[0m\u001b[0;34m\u001b[0m\u001b[0m\n",
            "\u001b[0;32mpandas/_libs/index.pyx\u001b[0m in \u001b[0;36mpandas._libs.index.IndexEngine.get_loc\u001b[0;34m()\u001b[0m\n",
            "\u001b[0;32mpandas/_libs/index.pyx\u001b[0m in \u001b[0;36mpandas._libs.index.IndexEngine.get_loc\u001b[0;34m()\u001b[0m\n",
            "\u001b[0;32mpandas/_libs/hashtable_class_helper.pxi\u001b[0m in \u001b[0;36mpandas._libs.hashtable.PyObjectHashTable.get_item\u001b[0;34m()\u001b[0m\n",
            "\u001b[0;32mpandas/_libs/hashtable_class_helper.pxi\u001b[0m in \u001b[0;36mpandas._libs.hashtable.PyObjectHashTable.get_item\u001b[0;34m()\u001b[0m\n",
            "\u001b[0;31mKeyError\u001b[0m: 'Country.of.Origin'"
          ]
        }
      ]
    },
    {
      "cell_type": "code",
      "metadata": {
        "id": "nYsExpNcpvI1",
        "colab_type": "code",
        "outputId": "701aad2d-639f-431b-cf45-11a79d587731",
        "colab": {
          "base_uri": "https://localhost:8080/",
          "height": 300
        }
      },
      "source": [
        "data = {\n",
        "    \"Group\": [\"A\", \"B\", \"C\"],\n",
        "    \"Score\": [0.255555, 0.77767, 0.1]\n",
        "}\n",
        "\n",
        "df = pd.DataFrame(data)\n",
        "sns.barplot(y=\"Group\", x=\"Score\", data=df)"
      ],
      "execution_count": 0,
      "outputs": [
        {
          "output_type": "execute_result",
          "data": {
            "text/plain": [
              "<matplotlib.axes._subplots.AxesSubplot at 0x7fcc0c06d6a0>"
            ]
          },
          "metadata": {
            "tags": []
          },
          "execution_count": 48
        },
        {
          "output_type": "display_data",
          "data": {
            "image/png": "[encoded data removed]",
            "text/plain": [
              "<Figure size 432x288 with 1 Axes>"
            ]
          },
          "metadata": {
            "tags": []
          }
        }
      ]
    },
    {
      "cell_type": "markdown",
      "metadata": {
        "id": "eqJS5FEbhNXe",
        "colab_type": "text"
      },
      "source": [
        "A couple of interesting things: \n",
        "1. "
      ]
    }
  ]
}